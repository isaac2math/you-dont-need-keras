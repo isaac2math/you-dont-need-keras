{
 "cells": [
  {
   "cell_type": "code",
   "execution_count": 1,
   "metadata": {},
   "outputs": [],
   "source": [
    "%reset -f"
   ]
  },
  {
   "cell_type": "code",
   "execution_count": 2,
   "metadata": {
    "id": "QYda818kgpz8"
   },
   "outputs": [
    {
     "name": "stderr",
     "output_type": "stream",
     "text": [
      "/Users/ning/miniconda3/envs/tensorflow/lib/python3.9/site-packages/tqdm/auto.py:22: TqdmWarning: IProgress not found. Please update jupyter and ipywidgets. See https://ipywidgets.readthedocs.io/en/stable/user_install.html\n",
      "  from .autonotebook import tqdm as notebook_tqdm\n"
     ]
    }
   ],
   "source": [
    "import tensorflow as tf\n",
    "import tensorflow_datasets as tfds\n",
    "\n",
    "padding = \"SAME\"  #@param ['SAME', 'VALID' ]\n",
    "num_output_classes = 102  #@param {type: \"number\"}\n",
    "batch_size = 32  #@param {type: \"number\"}\n",
    "learning_rate = 0.001  #@param {type: \"number\"}\n",
    "tf.config.set_visible_devices([], 'GPU')"
   ]
  },
  {
   "cell_type": "code",
   "execution_count": 3,
   "metadata": {
    "id": "XglEBv0KjNF0"
   },
   "outputs": [],
   "source": [
    "\n",
    "dataset_name = 'horses_or_humans'  #@param {type: \"string\"}\n",
    "\n",
    "dataset = tfds.load( name=dataset_name , split=tfds.Split.TRAIN )\n",
    "dataset = dataset.shuffle( 1024 ).batch( batch_size )\n"
   ]
  },
  {
   "cell_type": "code",
   "execution_count": 4,
   "metadata": {
    "id": "oUwYW2IXg8hl"
   },
   "outputs": [],
   "source": [
    "\n",
    "leaky_relu_alpha = 0.2 #@param {type: \"number\"}\n",
    "dropout_rate = 0.5 #@param {type: \"number\"}\n",
    "\n",
    "def conv2d( inputs , filters , stride_size ):\n",
    "    out = tf.nn.conv2d( inputs , filters , strides=[ 1 , stride_size , stride_size , 1 ] , padding=padding ) \n",
    "    return tf.nn.leaky_relu( out , alpha=leaky_relu_alpha ) \n",
    "\n",
    "def maxpool( inputs , pool_size , stride_size ):\n",
    "    return tf.nn.max_pool2d( inputs , ksize=[ 1 , pool_size , pool_size , 1 ] , padding='VALID' , strides=[ 1 , stride_size , stride_size , 1 ] )\n",
    "\n",
    "def dense( inputs , weights ):\n",
    "    x = tf.nn.leaky_relu( tf.matmul( inputs , weights ) , alpha=leaky_relu_alpha )\n",
    "    return tf.nn.dropout( x , rate=dropout_rate )\n"
   ]
  },
  {
   "cell_type": "code",
   "execution_count": 5,
   "metadata": {
    "id": "VXSI7DnehJhE"
   },
   "outputs": [
    {
     "name": "stderr",
     "output_type": "stream",
     "text": [
      "/Users/ning/miniconda3/envs/tensorflow/lib/python3.9/site-packages/keras/initializers/initializers_v2.py:120: UserWarning: The initializer GlorotUniform is unseeded and being called multiple times, which will return identical values  each time (even if the initializer is unseeded). Please update your code to provide a seed to the initializer, or avoid using the same initalizer instance more than once.\n",
      "  warnings.warn(\n"
     ]
    }
   ],
   "source": [
    "\n",
    "output_classes = 3\n",
    "initializer = tf.initializers.glorot_uniform()\n",
    "def get_weight( shape , name ):\n",
    "    return tf.Variable( initializer( shape ) , name=name , trainable=True , dtype=tf.float32 )\n",
    "\n",
    "shapes = [\n",
    "    [ 3 , 3 , 3 , 16 ] , \n",
    "    [ 3 , 3 , 16 , 16 ] , \n",
    "    [ 3 , 3 , 16 , 32 ] , \n",
    "    [ 3 , 3 , 32 , 32 ] ,\n",
    "    [ 3 , 3 , 32 , 64 ] , \n",
    "    [ 3 , 3 , 64 , 64 ] ,\n",
    "    [ 3 , 3 , 64 , 128 ] , \n",
    "    [ 3 , 3 , 128 , 128 ] ,\n",
    "    [ 3 , 3 , 128 , 256 ] , \n",
    "    [ 3 , 3 , 256 , 256 ] ,\n",
    "    [ 3 , 3 , 256 , 512 ] , \n",
    "    [ 3 , 3 , 512 , 512 ] ,\n",
    "    [ 8192 , 3600 ] , \n",
    "    [ 3600 , 2400 ] ,\n",
    "    [ 2400 , 1600 ] , \n",
    "    [ 1600 , 800 ] ,\n",
    "    [ 800 , 64 ] ,\n",
    "    [ 64 , output_classes ] ,\n",
    "]\n",
    "\n",
    "weights = []\n",
    "for i in range( len( shapes ) ):\n",
    "    weights.append( get_weight( shapes[ i ] , 'weight{}'.format( i ) ) )\n"
   ]
  },
  {
   "cell_type": "code",
   "execution_count": 6,
   "metadata": {
    "id": "Py8Ggzs2hPqO"
   },
   "outputs": [],
   "source": [
    "\n",
    "def model( x ) :\n",
    "    x = tf.cast( x , dtype=tf.float32 )\n",
    "    c1 = conv2d( x , weights[ 0 ] , stride_size=1 ) \n",
    "    c1 = conv2d( c1 , weights[ 1 ] , stride_size=1 ) \n",
    "    p1 = maxpool( c1 , pool_size=2 , stride_size=2 )\n",
    "    \n",
    "    c2 = conv2d( p1 , weights[ 2 ] , stride_size=1 )\n",
    "    c2 = conv2d( c2 , weights[ 3 ] , stride_size=1 ) \n",
    "    p2 = maxpool( c2 , pool_size=2 , stride_size=2 )\n",
    "    \n",
    "    c3 = conv2d( p2 , weights[ 4 ] , stride_size=1 ) \n",
    "    c3 = conv2d( c3 , weights[ 5 ] , stride_size=1 ) \n",
    "    p3 = maxpool( c3 , pool_size=2 , stride_size=2 )\n",
    "    \n",
    "    c4 = conv2d( p3 , weights[ 6 ] , stride_size=1 )\n",
    "    c4 = conv2d( c4 , weights[ 7 ] , stride_size=1 )\n",
    "    p4 = maxpool( c4 , pool_size=2 , stride_size=2 )\n",
    "\n",
    "    c5 = conv2d( p4 , weights[ 8 ] , stride_size=1 )\n",
    "    c5 = conv2d( c5 , weights[ 9 ] , stride_size=1 )\n",
    "    p5 = maxpool( c5 , pool_size=2 , stride_size=2 )\n",
    "\n",
    "    c6 = conv2d( p5 , weights[ 10 ] , stride_size=1 )\n",
    "    c6 = conv2d( c6 , weights[ 11 ] , stride_size=1 )\n",
    "    p6 = maxpool( c6 , pool_size=2 , stride_size=2 )\n",
    "\n",
    "    flatten = tf.reshape( p6 , shape=( tf.shape( p6 )[0] , -1 ))\n",
    "\n",
    "    d1 = dense( flatten , weights[ 12 ] )\n",
    "    d2 = dense( d1 , weights[ 13 ] )\n",
    "    d3 = dense( d2 , weights[ 14 ] )\n",
    "    d4 = dense( d3 , weights[ 15 ] )\n",
    "    d5 = dense( d4 , weights[ 16 ] )\n",
    "    logits = tf.matmul( d5 , weights[ 17 ] )\n",
    "\n",
    "    return tf.nn.softmax( logits )\n"
   ]
  },
  {
   "cell_type": "code",
   "execution_count": 7,
   "metadata": {
    "id": "U61C5trri_xu"
   },
   "outputs": [],
   "source": [
    "\n",
    "def loss( pred , target ):\n",
    "    return tf.losses.categorical_crossentropy( target , pred )\n",
    "\n",
    "optimizer = tf.optimizers.Adam( learning_rate )\n",
    "\n",
    "def train_step( model, inputs , outputs ):\n",
    "    with tf.GradientTape() as tape:\n",
    "        current_loss = loss( model( inputs ), outputs)\n",
    "    grads = tape.gradient( current_loss , weights )\n",
    "    optimizer.apply_gradients( zip( grads , weights ) )\n",
    "    print( tf.reduce_mean( current_loss ) )\n"
   ]
  },
  {
   "cell_type": "code",
   "execution_count": 8,
   "metadata": {
    "id": "DL42kBKgk2U2"
   },
   "outputs": [
    {
     "name": "stdout",
     "output_type": "stream",
     "text": [
      "WARNING:tensorflow:5 out of the last 5 calls to <function _BaseOptimizer._update_step_xla at 0x2917ecee0> triggered tf.function retracing. Tracing is expensive and the excessive number of tracings could be due to (1) creating @tf.function repeatedly in a loop, (2) passing tensors with different shapes, (3) passing Python objects instead of tensors. For (1), please define your @tf.function outside of the loop. For (2), @tf.function has reduce_retracing=True option that can avoid unnecessary retracing. For (3), please refer to https://www.tensorflow.org/guide/function#controlling_retracing and https://www.tensorflow.org/api_docs/python/tf/function for  more details.\n"
     ]
    },
    {
     "name": "stderr",
     "output_type": "stream",
     "text": [
      "WARNING:tensorflow:5 out of the last 5 calls to <function _BaseOptimizer._update_step_xla at 0x2917ecee0> triggered tf.function retracing. Tracing is expensive and the excessive number of tracings could be due to (1) creating @tf.function repeatedly in a loop, (2) passing tensors with different shapes, (3) passing Python objects instead of tensors. For (1), please define your @tf.function outside of the loop. For (2), @tf.function has reduce_retracing=True option that can avoid unnecessary retracing. For (3), please refer to https://www.tensorflow.org/guide/function#controlling_retracing and https://www.tensorflow.org/api_docs/python/tf/function for  more details.\n"
     ]
    },
    {
     "name": "stdout",
     "output_type": "stream",
     "text": [
      "WARNING:tensorflow:6 out of the last 6 calls to <function _BaseOptimizer._update_step_xla at 0x2917ecee0> triggered tf.function retracing. Tracing is expensive and the excessive number of tracings could be due to (1) creating @tf.function repeatedly in a loop, (2) passing tensors with different shapes, (3) passing Python objects instead of tensors. For (1), please define your @tf.function outside of the loop. For (2), @tf.function has reduce_retracing=True option that can avoid unnecessary retracing. For (3), please refer to https://www.tensorflow.org/guide/function#controlling_retracing and https://www.tensorflow.org/api_docs/python/tf/function for  more details.\n"
     ]
    },
    {
     "name": "stderr",
     "output_type": "stream",
     "text": [
      "WARNING:tensorflow:6 out of the last 6 calls to <function _BaseOptimizer._update_step_xla at 0x2917ecee0> triggered tf.function retracing. Tracing is expensive and the excessive number of tracings could be due to (1) creating @tf.function repeatedly in a loop, (2) passing tensors with different shapes, (3) passing Python objects instead of tensors. For (1), please define your @tf.function outside of the loop. For (2), @tf.function has reduce_retracing=True option that can avoid unnecessary retracing. For (3), please refer to https://www.tensorflow.org/guide/function#controlling_retracing and https://www.tensorflow.org/api_docs/python/tf/function for  more details.\n"
     ]
    },
    {
     "name": "stdout",
     "output_type": "stream",
     "text": [
      "tf.Tensor(3.2430654, shape=(), dtype=float32)\n",
      "tf.Tensor(7.0176215, shape=(), dtype=float32)\n",
      "tf.Tensor(5.8139834, shape=(), dtype=float32)\n",
      "tf.Tensor(3.89904, shape=(), dtype=float32)\n",
      "tf.Tensor(8.105514, shape=(), dtype=float32)\n",
      "tf.Tensor(11.08119, shape=(), dtype=float32)\n",
      "tf.Tensor(7.0516667, shape=(), dtype=float32)\n",
      "tf.Tensor(10.07381, shape=(), dtype=float32)\n",
      "tf.Tensor(8.059048, shape=(), dtype=float32)\n",
      "tf.Tensor(9.57012, shape=(), dtype=float32)\n",
      "tf.Tensor(8.562738, shape=(), dtype=float32)\n",
      "tf.Tensor(10.07381, shape=(), dtype=float32)\n",
      "tf.Tensor(5.540595, shape=(), dtype=float32)\n",
      "tf.Tensor(10.577499, shape=(), dtype=float32)\n",
      "tf.Tensor(5.036905, shape=(), dtype=float32)\n",
      "tf.Tensor(6.044286, shape=(), dtype=float32)\n",
      "tf.Tensor(9.066429, shape=(), dtype=float32)\n",
      "tf.Tensor(5.540595, shape=(), dtype=float32)\n",
      "tf.Tensor(9.57012, shape=(), dtype=float32)\n",
      "tf.Tensor(6.5479765, shape=(), dtype=float32)\n",
      "tf.Tensor(8.562738, shape=(), dtype=float32)\n",
      "tf.Tensor(4.5332146, shape=(), dtype=float32)\n",
      "tf.Tensor(9.066429, shape=(), dtype=float32)\n",
      "tf.Tensor(8.562738, shape=(), dtype=float32)\n",
      "tf.Tensor(10.577499, shape=(), dtype=float32)\n",
      "tf.Tensor(7.555357, shape=(), dtype=float32)\n",
      "tf.Tensor(8.562738, shape=(), dtype=float32)\n",
      "tf.Tensor(11.08119, shape=(), dtype=float32)\n",
      "tf.Tensor(9.57012, shape=(), dtype=float32)\n",
      "tf.Tensor(7.5553575, shape=(), dtype=float32)\n",
      "tf.Tensor(7.555357, shape=(), dtype=float32)\n",
      "tf.Tensor(8.562738, shape=(), dtype=float32)\n",
      "tf.Tensor(16.118095, shape=(), dtype=float32)\n",
      "tf.Tensor(8.059048, shape=(), dtype=float32)\n",
      "tf.Tensor(9.066428, shape=(), dtype=float32)\n",
      "tf.Tensor(7.0516667, shape=(), dtype=float32)\n",
      "tf.Tensor(10.07381, shape=(), dtype=float32)\n",
      "tf.Tensor(3.5258334, shape=(), dtype=float32)\n",
      "tf.Tensor(9.066429, shape=(), dtype=float32)\n",
      "tf.Tensor(8.059048, shape=(), dtype=float32)\n",
      "tf.Tensor(9.066429, shape=(), dtype=float32)\n",
      "tf.Tensor(8.059048, shape=(), dtype=float32)\n",
      "tf.Tensor(8.059048, shape=(), dtype=float32)\n",
      "tf.Tensor(10.5775, shape=(), dtype=float32)\n",
      "tf.Tensor(9.570119, shape=(), dtype=float32)\n",
      "tf.Tensor(5.036905, shape=(), dtype=float32)\n",
      "tf.Tensor(10.07381, shape=(), dtype=float32)\n",
      "tf.Tensor(8.059048, shape=(), dtype=float32)\n",
      "tf.Tensor(6.5479765, shape=(), dtype=float32)\n",
      "tf.Tensor(7.051667, shape=(), dtype=float32)\n",
      "tf.Tensor(9.066429, shape=(), dtype=float32)\n",
      "tf.Tensor(7.0516667, shape=(), dtype=float32)\n",
      "tf.Tensor(9.570119, shape=(), dtype=float32)\n",
      "tf.Tensor(6.044286, shape=(), dtype=float32)\n",
      "tf.Tensor(9.066429, shape=(), dtype=float32)\n",
      "tf.Tensor(9.570119, shape=(), dtype=float32)\n",
      "tf.Tensor(6.5479765, shape=(), dtype=float32)\n",
      "tf.Tensor(10.577499, shape=(), dtype=float32)\n",
      "tf.Tensor(9.066429, shape=(), dtype=float32)\n",
      "tf.Tensor(8.059048, shape=(), dtype=float32)\n",
      "tf.Tensor(9.066429, shape=(), dtype=float32)\n",
      "tf.Tensor(8.059048, shape=(), dtype=float32)\n",
      "tf.Tensor(8.562738, shape=(), dtype=float32)\n",
      "tf.Tensor(10.5775, shape=(), dtype=float32)\n",
      "tf.Tensor(6.5479765, shape=(), dtype=float32)\n",
      "tf.Tensor(10.745397, shape=(), dtype=float32)\n"
     ]
    }
   ],
   "source": [
    "\n",
    "num_epochs = 2 #@param {type: \"number\"}\n",
    "\n",
    "for e in range( num_epochs ):\n",
    "    for features in dataset:\n",
    "        image , label = features[ 'image' ] , features[ 'label' ]\n",
    "        train_step( model , image , tf.one_hot( label , depth=3 ) )\n"
   ]
  },
  {
   "cell_type": "code",
   "execution_count": null,
   "metadata": {
    "id": "MpOerfNYo-sp"
   },
   "outputs": [],
   "source": []
  }
 ],
 "metadata": {
  "accelerator": "GPU",
  "colab": {
   "private_outputs": true,
   "provenance": [],
   "toc_visible": true
  },
  "gpuClass": "standard",
  "kernelspec": {
   "display_name": "Python 3",
   "language": "python",
   "name": "python3"
  },
  "language_info": {
   "codemirror_mode": {
    "name": "ipython",
    "version": 3
   },
   "file_extension": ".py",
   "mimetype": "text/x-python",
   "name": "python",
   "nbconvert_exporter": "python",
   "pygments_lexer": "ipython3",
   "version": "3.9.12"
  }
 },
 "nbformat": 4,
 "nbformat_minor": 4
}
